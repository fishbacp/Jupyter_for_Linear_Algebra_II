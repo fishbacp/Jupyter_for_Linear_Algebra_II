{
 "cells": [
  {
   "cell_type": "markdown",
   "metadata": {
    "collapsed": false
   },
   "source": [
    "## Linear Regression\n",
    "### Make sure to execute the function <code>vectors2matrix</code> below."
   ]
  },
  {
   "cell_type": "code",
   "execution_count": 20,
   "metadata": {
    "collapsed": false
   },
   "outputs": [
   ],
   "source": [
    "def vectors2matrix(vectors):\n",
    "    return matrix(CDF,vectors).transpose()"
   ]
  },
  {
   "cell_type": "markdown",
   "metadata": {
    "collapsed": false
   },
   "source": [
    "Simple linear regression refers to the process of finding a line that \"best fits\" a set of plotted data points.\n",
    "In this example, we consider the set of points, $(x,y)$, where $x$ denotes years of driving experience and $y$\n",
    "represents the corresponding average auto insurance premium. The goal of linear regression is to \n",
    "find a linear function of the form $y=\\beta_0+\\beta_1x$, which gives premium, $y$, as a function of driving \n",
    "experience, $x$\n",
    "\n",
    "We first enter as vectors the data points, the vector x lists years experience, and Y gives the corresponding\n",
    "insurance premiums."
   ]
  },
  {
   "cell_type": "code",
   "execution_count": 21,
   "metadata": {
    "collapsed": false
   },
   "outputs": [
   ],
   "source": [
    "x=vector([5,2,12,9,15,6,25,16])"
   ]
  },
  {
   "cell_type": "code",
   "execution_count": 22,
   "metadata": {
    "collapsed": false
   },
   "outputs": [
   ],
   "source": [
    "Y=vector([64,87,50,71,44,56,42,60])"
   ]
  },
  {
   "cell_type": "code",
   "execution_count": 23,
   "metadata": {
    "collapsed": false
   },
   "outputs": [
    {
     "data": {
      "text/plain": [
       "(1, 1, 1, 1, 1, 1, 1, 1)"
      ]
     },
     "execution_count": 23,
     "metadata": {
     },
     "output_type": "execute_result"
    }
   ],
   "source": [
    "onevec= vector(ones_matrix(QQ, 1, len(x)));\n",
    "onevec"
   ]
  },
  {
   "cell_type": "markdown",
   "metadata": {
    "collapsed": false
   },
   "source": [
    "We will define a matrix, $X$, whose first column consists of one's and whose second column consists of the entries of x."
   ]
  },
  {
   "cell_type": "code",
   "execution_count": 24,
   "metadata": {
    "collapsed": false
   },
   "outputs": [
    {
     "data": {
      "text/plain": [
       "[ 1.0  5.0]\n",
       "[ 1.0  2.0]\n",
       "[ 1.0 12.0]\n",
       "[ 1.0  9.0]\n",
       "[ 1.0 15.0]\n",
       "[ 1.0  6.0]\n",
       "[ 1.0 25.0]\n",
       "[ 1.0 16.0]"
      ]
     },
     "execution_count": 24,
     "metadata": {
     },
     "output_type": "execute_result"
    }
   ],
   "source": [
    "X=vectors2matrix([onevec,x])\n",
    "X"
   ]
  },
  {
   "cell_type": "markdown",
   "metadata": {
    "collapsed": false
   },
   "source": [
    "Linear regression seeks to draw a line in such a way that the sums of squares of the vertical\n",
    "distances from the points to the line is as small as possible. We refer to this quantity as\n",
    "the \"sum of squared errors,\" and it can be expressed as\n",
    "$$ SS_E=\\sum_{i=1}^n (\\beta_0+\\beta_1x_i-Y_i)^2,$$\n",
    "where $n$ denotes the number of data points and where $\\beta_0$ and $\\beta_1$ are the\n",
    "unknown axis intercept and slope we wish to determine.\n",
    "\n",
    "In matrix form, we can rewrite the above sum as\n",
    "$$\\| X\\boldsymbol{\\beta}-\\mathbf{Y}\\|^2,$$\n",
    "\n",
    "where $\\boldsymbol{\\beta}=\\begin{bmatrix} \\beta_0 \\\\ \\beta_1 \\end{bmatrix}$ and $\\mathbf{Y}$ is a column\n",
    "vector whose entries record the insurance premiums.\n",
    "\n",
    "We will discuss in class how using orthogonal projections leads to\n",
    "\n",
    "$$\\boldsymbol{\\beta}=(X^tX)^{-1}X^tY.$$"
   ]
  },
  {
   "cell_type": "code",
   "execution_count": 0,
   "metadata": {
    "collapsed": false
   },
   "outputs": [
   ],
   "source": [
   ]
  },
  {
   "cell_type": "code",
   "execution_count": 25,
   "metadata": {
    "collapsed": false
   },
   "outputs": [
    {
     "data": {
      "text/plain": [
       "(76.66036505867015, -1.5475880052151232)"
      ]
     },
     "execution_count": 25,
     "metadata": {
     },
     "output_type": "execute_result"
    }
   ],
   "source": [
    "Beta=(X.transpose()*X).inverse()*X.transpose()*Y\n",
    "Beta"
   ]
  },
  {
   "cell_type": "markdown",
   "metadata": {
    "collapsed": false
   },
   "source": [
    "Now that we have the regression coefficients, we can plot the points along with our regression line."
   ]
  },
  {
   "cell_type": "code",
   "execution_count": 26,
   "metadata": {
    "collapsed": false
   },
   "outputs": [
    {
     "data": {
      "image/png": "[encoded data removed]"
     },
     "execution_count": 26,
     "metadata": {
     },
     "output_type": "execute_result"
    }
   ],
   "source": [
    "Data=vectors2matrix([x,Y])\n",
    "show(points(Data, color='red', pointsize=50))"
   ]
  },
  {
   "cell_type": "code",
   "execution_count": 27,
   "metadata": {
    "collapsed": false
   },
   "outputs": [
    {
     "name": "stderr",
     "output_type": "stream",
     "text": [
      "WARNING: Some output was deleted.\n"
     ]
    }
   ],
   "source": [
    "YRS=var('YRS')\n",
    "show(plot(Beta[0]+Beta[1]*YRS, (YRS,0,25),axes_labels=['Yrs','Premium'])+points(Data, color='red', pointsize=50))"
   ]
  },
  {
   "cell_type": "markdown",
   "metadata": {
    "collapsed": false
   },
   "source": [
    "The \"coefficient of determination,\" sometimes referred to as the \"R-squared value\" measures the fraction\n",
    "of variance (a statistics term measuring data spread about its mean) explained by our model. More specifically,\n",
    "\n",
    "$$R^2= 1-\\frac{SS_E}{SS_{\\mbox{tot}}},$$\n",
    "where $SS_{\\mbox{tot}}$ is the variance of $Y$."
   ]
  },
  {
   "cell_type": "code",
   "execution_count": 28,
   "metadata": {
    "collapsed": false
   },
   "outputs": [
    {
     "data": {
      "text/plain": [
       "639.006518904824"
      ]
     },
     "execution_count": 28,
     "metadata": {
     },
     "output_type": "execute_result"
    }
   ],
   "source": [
    "SSerror=((X*vectors2matrix(Beta))-vectors2matrix(Y)).norm()^2\n",
    "SSerror"
   ]
  },
  {
   "cell_type": "code",
   "execution_count": 29,
   "metadata": {
    "collapsed": false
   },
   "outputs": [
    {
     "data": {
      "text/plain": [
       "198025/4"
      ]
     },
     "execution_count": 29,
     "metadata": {
     },
     "output_type": "execute_result"
    }
   ],
   "source": [
    "SStot=variance(Y)^2\n",
    "SStot"
   ]
  },
  {
   "cell_type": "code",
   "execution_count": 30,
   "metadata": {
    "collapsed": false
   },
   "outputs": [
    {
     "data": {
      "text/plain": [
       "0.9870924071424351"
      ]
     },
     "execution_count": 30,
     "metadata": {
     },
     "output_type": "execute_result"
    }
   ],
   "source": [
    "Rsquared=1-SSerror/SStot\n",
    "Rsquared"
   ]
  },
  {
   "cell_type": "markdown",
   "metadata": {
    "collapsed": false
   },
   "source": [
    "Calculating $\\boldsymbol{\\beta}$ using the method above requires computing $(X^tX)^{-1}$, which is computationally inefficient. \n",
    "\n",
    "A better approach is to utilize the $QR$ decomposition of $X$. Suppose $X=QR$, where $Q$ has orthnormal columns and where $R$ is \n",
    "upper triangular with positive diagonal entries. Recall that $Q^tQ=I_n$, the identity matrix and that $R$ is invertible, whence so is $R^t$.\n",
    "\n",
    "Using transpose properties, we have,\n",
    "\n",
    "\\begin{align*}\n",
    "X^tX\\boldsymbol{\\beta}&=X^tY \\\\\n",
    "(QR)^tQR \\boldsymbol{\\beta}&=(QR)^tY\\\\\n",
    "R^tQ^tQR\\boldsymbol{\\beta}&=R^tQ^tY \\\\\n",
    "R^tR\\boldsymbol{\\beta}&=R^t Q^tY \\\\\n",
    "R\\boldsymbol{\\beta}&=Q^tY.\n",
    "\\end{align*}\n",
    "\n",
    "So, here's the end result. Once we have $Q$, set $z=Q^tY$. Then solve $R\\boldsymbol{\\beta}=z$ using \n",
    "back substitution. No matrix inversion is required, even to compute $Q$ and $R$ if you recall."
   ]
  },
  {
   "cell_type": "code",
   "execution_count": 42,
   "metadata": {
    "collapsed": false
   },
   "outputs": [
    {
     "data": {
      "text/plain": [
       "[-2.83 -31.8]\n",
       "[0.000  19.6]\n",
       "[0.000 0.000]\n",
       "[0.000 0.000]\n",
       "[0.000 0.000]\n",
       "[0.000 0.000]\n",
       "[0.000 0.000]\n",
       "[0.000 0.000]"
      ]
     },
     "execution_count": 42,
     "metadata": {
     },
     "output_type": "execute_result"
    }
   ],
   "source": [
    "Q,R=X.QR()\n",
    "R=n(R,digits=3)\n",
    "Q=n(Q,digits=3)\n",
    "R"
   ]
  },
  {
   "cell_type": "markdown",
   "metadata": {
    "collapsed": false
   },
   "source": [
    "Observe that the matrix $R$ consists of many rows of zeros. Without elaborating on the reasons why, we must use the square matrix obtained by using the top two rows, which we call <code>Rreduced</code>."
   ]
  },
  {
   "cell_type": "code",
   "execution_count": 32,
   "metadata": {
    "collapsed": false
   },
   "outputs": [
    {
     "data": {
      "text/plain": [
       "[-2.83 -31.8]\n",
       "[0.000  19.6]"
      ]
     },
     "execution_count": 32,
     "metadata": {
     },
     "output_type": "execute_result"
    }
   ],
   "source": [
    "Rreduced=R.matrix_from_rows([0,1])\n",
    "Rreduced"
   ]
  },
  {
   "cell_type": "code",
   "execution_count": 33,
   "metadata": {
    "collapsed": false
   },
   "outputs": [
    {
     "data": {
      "text/plain": [
       "[ -0.354  -0.319  -0.357  -0.353  -0.360  -0.349  -0.373  -0.362]\n",
       "[ -0.354  -0.472  0.0285  -0.124   0.181  -0.276   0.688   0.231]\n",
       "[ -0.354  0.0383   0.896 -0.0894  -0.118 -0.0750  -0.166  -0.123]\n",
       "[ -0.354  -0.115 -0.0904   0.907 -0.0879 -0.0953 -0.0796 -0.0871]\n",
       "[ -0.354   0.191  -0.117 -0.0859   0.852 -0.0546  -0.253  -0.159]\n",
       "[ -0.354  -0.268 -0.0770 -0.0963 -0.0576   0.884 0.00703 -0.0511]\n",
       "[ -0.354   0.702  -0.162 -0.0743  -0.250  0.0133   0.458  -0.279]\n",
       "[ -0.354   0.243  -0.122 -0.0847  -0.159 -0.0478  -0.282   0.829]"
      ]
     },
     "execution_count": 33,
     "metadata": {
     },
     "output_type": "execute_result"
    }
   ],
   "source": [
    "Q"
   ]
  },
  {
   "cell_type": "code",
   "execution_count": 34,
   "metadata": {
    "collapsed": false
   },
   "outputs": [
    {
     "data": {
      "text/plain": [
       "[1.00 5.00]\n",
       "[1.00 2.00]\n",
       "[1.00 12.0]\n",
       "[1.00 9.00]\n",
       "[1.00 15.0]\n",
       "[1.00 6.00]\n",
       "[1.00 25.0]\n",
       "[1.00 16.0]"
      ]
     },
     "execution_count": 34,
     "metadata": {
     },
     "output_type": "execute_result"
    }
   ],
   "source": [
    "Q*R"
   ]
  },
  {
   "cell_type": "code",
   "execution_count": 39,
   "metadata": {
    "collapsed": false
   },
   "outputs": [
    {
     "data": {
      "text/plain": [
       "[  -167.578125]\n",
       "[-30.306640625]"
      ]
     },
     "execution_count": 39,
     "metadata": {
     },
     "output_type": "execute_result"
    }
   ],
   "source": [
    "z=Q.transpose()*Y\n",
    "z=vectors2matrix(z)\n",
    "z=z.matrix_from_rows([0,1])\n",
    "z"
   ]
  },
  {
   "cell_type": "code",
   "execution_count": 40,
   "metadata": {
    "collapsed": false
   },
   "outputs": [
    {
     "data": {
      "text/plain": [
       "[ 76.7]\n",
       "[-1.55]"
      ]
     },
     "execution_count": 40,
     "metadata": {
     },
     "output_type": "execute_result"
    }
   ],
   "source": [
    "Rreduced.solve_right(z)"
   ]
  },
  {
   "cell_type": "code",
   "execution_count": 41,
   "metadata": {
    "collapsed": false
   },
   "outputs": [
    {
     "data": {
      "text/plain": [
       "(76.66036505867015, -1.5475880052151232)"
      ]
     },
     "execution_count": 41,
     "metadata": {
     },
     "output_type": "execute_result"
    }
   ],
   "source": [
    "Beta"
   ]
  },
  {
   "cell_type": "code",
   "execution_count": 0,
   "metadata": {
    "collapsed": false
   },
   "outputs": [
   ],
   "source": [
   ]
  }
 ],
 "metadata": {
  "kernelspec": {
   "display_name": "SageMath (stable)",
   "language": "sagemath",
   "metadata": {
    "cocalc": {
     "description": "Open-source mathematical software system",
     "priority": 10,
     "url": "https://www.sagemath.org/"
    }
   },
   "name": "sagemath"
  },
  "language_info": {
   "codemirror_mode": {
    "name": "ipython",
    "version": 2
   },
   "file_extension": ".py",
   "mimetype": "text/x-python",
   "name": "python",
   "nbconvert_exporter": "python",
   "pygments_lexer": "ipython2",
   "version": "2.7.15"
  }
 },
 "nbformat": 4,
 "nbformat_minor": 0
}