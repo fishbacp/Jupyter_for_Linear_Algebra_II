{
 "cells": [
  {
   "cell_type": "markdown",
   "metadata": {
    "collapsed": false
   },
   "source": [
    "Here is a function created for purposes of performing the $k$-means algorithm. It selects the initial centroids at random."
   ]
  },
  {
   "cell_type": "code",
   "execution_count": 0,
   "metadata": {
    "collapsed": false
   },
   "outputs": [
   ],
   "source": [
    "import numpy as np\n",
    "def kmeans(data, k, N):\n",
    "    centroids = sample(data, k)\n",
    "    for _ in range(N):\n",
    "        clusters = [ [] for __ in range(k)]\n",
    "        for datum in data:\n",
    "            distances = [ (datum - centroids[j]).norm() for j in range(k)]\n",
    "            clusters[np.argmin(distances)].append(datum)\n",
    "        centroids = [mean(clusters[j]) for j in range(k)]\n",
    "    return [clusters, centroids]\n",
    "        "
   ]
  },
  {
   "cell_type": "markdown",
   "metadata": {
    "collapsed": false
   },
   "source": [
    "Measurement data for the various iris species will be read in from a spreadsheet (.csv) file. For each species, there are four measurements: sepal length, sepal width, petal length, and petal width. For purposes of visualization in $\\mathbb{R}^3$, we will consider only the first, third, and fourth of these values."
   ]
  },
  {
   "cell_type": "code",
   "execution_count": 6,
   "metadata": {
    "collapsed": false
   },
   "outputs": [
    {
     "data": {
      "text/html": "\n<iframe srcdoc=\"\n<html>\n<head>\n  <style>\n    * {\n      margin: 0;\n      padding: 0;\n      overflow: hidden;\n    }\n    body, html {      \n      height: 100%;\n      width: 100%;\n    }\n  </style>\n  <script type=&quot;text/javascript&quot; src=&quot;/nbextensions/jsmol/JSmol.min.js&quot;></script>\n</head>\n<body>\n  <script type=&quot;text/javascript&quot;>\n    var script = [\n  'data &quot;model list&quot;',\n  '10',\n  'empty',\n  'Xx -3.0 -4.0 -3.0',\n  'Xx 0.0 -4.0 -3.0',\n  'Xx 3.0 -4.0 -3.0',\n  'Xx 4.0 -3.0 -3.0',\n  'Xx 4.0 0.0 -3.0',\n  'Xx 4.0 3.0 -3.0',\n  'Xx -4.0 -3.0 -3.0',\n  'Xx -4.0 -3.0 0.0',\n  'Xx -4.0 -3.0 3.0',\n  'Xx 5.5 5.5 5.5',\n  'end &quot;model list&quot;; show data',\n  'select *',\n  'wireframe off; spacefill off',\n  'set labelOffset 0 0',\n  'background [255,255,255]',\n  'spin OFF',\n  'moveto 0 -764 -346 -545 76.39',\n  'centerAt absolute {0 0 0}',\n  'zoom 100',\n  'frank OFF',\n  'set perspectivedepth ON',\n  'draw point_1 DIAMETER 20 {-1.66666666667 0.75 -2.59322033898}',\n  'color $point_1  [102,102,255]',\n  'draw point_2 DIAMETER 20 {-2.0 -0.5 -2.59322033898}',\n  'color $point_2  [102,102,255]',\n  'draw point_3 DIAMETER 20 {-2.33333333333 0.0 -2.69491525424}',\n  'color $point_3  [102,102,255]',\n  'draw point_4 DIAMETER 20 {-2.5 -0.25 -2.49152542373}',\n  'color $point_4  [102,102,255]',\n  'draw point_5 DIAMETER 20 {-1.83333333333 1.0 -2.59322033898}',\n  'color $point_5  [102,102,255]',\n  'draw point_6 DIAMETER 20 {-1.16666666667 1.75 -2.28813559322}',\n  'color $point_6  [102,102,255]',\n  'draw point_7 DIAMETER 20 {-2.5 0.5 -2.59322033898}',\n  'color $point_7  [102,102,255]',\n  'draw point_8 DIAMETER 20 {-1.83333333333 0.5 -2.49152542373}',\n  'color $point_8  [102,102,255]',\n  'draw point_9 DIAMETER 20 {-2.83333333333 -0.75 -2.59322033898}',\n  'color $point_9  [102,102,255]',\n  'draw point_10 DIAMETER 20 {-2.0 -0.25 -2.49152542373}',\n  'color $point_10  [102,102,255]',\n  'draw point_11 DIAMETER 20 {-1.16666666667 1.25 -2.49152542373}',\n  'color $point_11  [102,102,255]',\n  'draw point_12 DIAMETER 20 {-2.16666666667 0.5 -2.38983050847}',\n  'color $point_12  [102,102,255]',\n  'draw point_13 DIAMETER 20 {-2.16666666667 -0.5 -2.59322033898}',\n  'color $point_13  [102,102,255]',\n  'draw point_14 DIAMETER 20 {-3.0 -0.5 -2.89830508475}',\n  'color $point_14  [102,102,255]',\n  'draw point_15 DIAMETER 20 {-0.5 2.0 -2.79661016949}',\n  'color $point_15  [102,102,255]',\n  'draw point_16 DIAMETER 20 {-0.666666666667 3.0 -2.49152542373}',\n  'color $point_16  [102,102,255]',\n  'draw point_17 DIAMETER 20 {-1.16666666667 1.75 -2.69491525424}',\n  'color $point_17  [102,102,255]',\n  'draw point_18 DIAMETER 20 {-1.66666666667 0.75 -2.59322033898}',\n  'color $point_18  [102,102,255]',\n  'draw point_19 DIAMETER 20 {-0.666666666667 1.5 -2.28813559322}',\n  'color $point_19  [102,102,255]',\n  'draw point_20 DIAMETER 20 {-1.66666666667 1.5 -2.49152542373}',\n  'color $point_20  [102,102,255]',\n  'draw point_21 DIAMETER 20 {-1.16666666667 0.5 -2.28813559322}',\n  'color $point_21  [102,102,255]',\n  'draw point_22 DIAMETER 20 {-1.66666666667 1.25 -2.49152542373}',\n  'color $point_22  [102,102,255]',\n  'draw point_23 DIAMETER 20 {-2.5 1.0 -3.0}',\n  'color $point_23  [102,102,255]',\n  'draw point_24 DIAMETER 20 {-1.66666666667 0.25 -2.28813559322}',\n  'color $point_24  [102,102,255]',\n  'draw point_25 DIAMETER 20 {-2.16666666667 0.5 -2.08474576271}',\n  'color $point_25  [102,102,255]',\n  'draw point_26 DIAMETER 20 {-1.83333333333 -0.5 -2.38983050847}',\n  'color $point_26  [102,102,255]',\n  'draw point_27 DIAMETER 20 {-1.83333333333 0.5 -2.38983050847}',\n  'color $point_27  [102,102,255]',\n  'draw point_28 DIAMETER 20 {-1.5 0.75 -2.49152542373}',\n  'color $point_28  [102,102,255]',\n  'draw point_29 DIAMETER 20 {-1.5 0.5 -2.59322033898}',\n  'color $point_29  [102,102,255]',\n  'draw point_30 DIAMETER 20 {-2.33333333333 0.0 -2.38983050847}',\n  'color $point_30  [102,102,255]',\n  'draw point_31 DIAMETER 20 {-2.16666666667 -0.25 -2.38983050847}',\n  'color $point_31  [102,102,255]',\n  'draw point_32 DIAMETER 20 {-1.16666666667 0.5 -2.49152542373}',\n  'color $point_32  [102,102,255]',\n  'draw point_33 DIAMETER 20 {-1.5 2.25 -2.49152542373}',\n  'color $point_33  [102,102,255]',\n  'draw point_34 DIAMETER 20 {-1.0 2.5 -2.59322033898}',\n  'color $point_34  [102,102,255]',\n  'draw point_35 DIAMETER 20 {-2.0 -0.25 -2.49152542373}',\n  'color $point_35  [102,102,255]',\n  'draw point_36 DIAMETER 20 {-1.83333333333 0.0 -2.79661016949}',\n  'color $point_36  [102,102,255]',\n  'draw point_37 DIAMETER 20 {-1.0 0.75 -2.69491525424}',\n  'color $point_37  [102,102,255]',\n  'draw point_38 DIAMETER 20 {-2.0 -0.25 -2.49152542373}',\n  'color $point_38  [102,102,255]',\n  'draw point_39 DIAMETER 20 {-2.83333333333 -0.5 -2.69491525424}',\n  'color $point_39  [102,102,255]',\n  'draw point_40 DIAMETER 20 {-1.66666666667 0.5 -2.49152542373}',\n  'color $point_40  [102,102,255]',\n  'draw point_41 DIAMETER 20 {-1.83333333333 0.75 -2.69491525424}',\n  'color $point_41  [102,102,255]',\n  'draw point_42 DIAMETER 20 {-2.66666666667 -2.25 -2.69491525424}',\n  'color $point_42  [102,102,255]',\n  'draw point_43 DIAMETER 20 {-2.83333333333 0.0 -2.69491525424}',\n  'color $point_43  [102,102,255]',\n  'draw point_44 DIAMETER 20 {-1.83333333333 0.75 -2.38983050847}',\n  'color $point_44  [102,102,255]',\n  'draw point_45 DIAMETER 20 {-1.66666666667 1.5 -2.08474576271}',\n  'color $point_45  [102,102,255]',\n  'draw point_46 DIAMETER 20 {-2.16666666667 -0.5 -2.59322033898}',\n  'color $point_46  [102,102,255]',\n  'draw point_47 DIAMETER 20 {-1.66666666667 1.5 -2.38983050847}',\n  'color $point_47  [102,102,255]',\n  'draw point_48 DIAMETER 20 {-2.5 0.0 -2.59322033898}',\n  'color $point_48  [102,102,255]',\n  'draw point_49 DIAMETER 20 {-1.33333333333 1.25 -2.49152542373}',\n  'color $point_49  [102,102,255]',\n  'draw point_50 DIAMETER 20 {-1.83333333333 0.25 -2.59322033898}',\n  'color $point_50  [102,102,255]',\n  'draw point_51 DIAMETER 20 {1.5 0.0 0.762711864407}',\n  'color $point_51  [102,102,255]',\n  'draw point_52 DIAMETER 20 {0.5 0.0 0.559322033898}',\n  'color $point_52  [102,102,255]',\n  'draw point_53 DIAMETER 20 {1.33333333333 -0.25 0.966101694915}',\n  'color $point_53  [102,102,255]',\n  'draw point_54 DIAMETER 20 {-1.0 -2.25 0.0508474576271}',\n  'color $point_54  [102,102,255]',\n  'draw point_55 DIAMETER 20 {0.666666666667 -1.0 0.661016949153}',\n  'color $point_55  [102,102,255]',\n  'draw point_56 DIAMETER 20 {-0.666666666667 -1.0 0.559322033898}',\n  'color $point_56  [102,102,255]',\n  'draw point_57 DIAMETER 20 {0.333333333333 0.25 0.762711864407}',\n  'color $point_57  [102,102,255]',\n  'draw point_58 DIAMETER 20 {-2.0 -2.0 -0.661016949153}',\n  'color $point_58  [102,102,255]',\n  'draw point_59 DIAMETER 20 {0.833333333333 -0.75 0.661016949153}',\n  'color $point_59  [102,102,255]',\n  'draw point_60 DIAMETER 20 {-1.5 -1.25 -0.0508474576271}',\n  'color $point_60  [102,102,255]',\n  'draw point_61 DIAMETER 20 {-1.83333333333 -3.0 -0.457627118644}',\n  'color $point_61  [102,102,255]',\n  'draw point_62 DIAMETER 20 {-0.333333333333 -0.5 0.254237288136}',\n  'color $point_62  [102,102,255]',\n  'draw point_63 DIAMETER 20 {-0.166666666667 -2.5 0.0508474576271}',\n  'color $point_63  [102,102,255]',\n  'draw point_64 DIAMETER 20 {-1.7763568394e-15 -0.75 0.762711864407}',\n  'color $point_64  [102,102,255]',\n  'draw point_65 DIAMETER 20 {-0.833333333333 -0.75 -0.35593220339}',\n  'color $point_65  [102,102,255]',\n  'draw point_66 DIAMETER 20 {1.0 -0.25 0.457627118644}',\n  'color $point_66  [102,102,255]',\n  'draw point_67 DIAMETER 20 {-0.833333333333 -0.5 0.559322033898}',\n  'color $point_67  [102,102,255]',\n  'draw point_68 DIAMETER 20 {-0.5 -1.25 0.152542372881}',\n  'color $point_68  [102,102,255]',\n  'draw point_69 DIAMETER 20 {0.166666666667 -2.5 0.559322033898}',\n  'color $point_69  [102,102,255]',\n  'draw point_70 DIAMETER 20 {-0.833333333333 -1.75 -0.0508474576271}',\n  'color $point_70  [102,102,255]',\n  'draw point_71 DIAMETER 20 {-0.333333333333 0.0 0.864406779661}',\n  'color $point_71  [102,102,255]',\n  'draw point_72 DIAMETER 20 {-1.7763568394e-15 -1.0 0.0508474576271}',\n  'color $point_72  [102,102,255]',\n  'draw point_73 DIAMETER 20 {0.333333333333 -1.75 0.966101694915}',\n  'color $point_73  [102,102,255]',\n  'draw point_74 DIAMETER 20 {-1.7763568394e-15 -1.0 0.762711864407}',\n  'color $point_74  [102,102,255]',\n  'draw point_75 DIAMETER 20 {0.5 -0.75 0.35593220339}',\n  'color $point_75  [102,102,255]',\n  'draw point_76 DIAMETER 20 {0.833333333333 -0.5 0.457627118644}',\n  'color $point_76  [102,102,255]',\n  'draw point_77 DIAMETER 20 {1.16666666667 -1.0 0.864406779661}',\n  'color $point_77  [102,102,255]',\n  'draw point_78 DIAMETER 20 {1.0 -0.5 1.06779661017}',\n  'color $point_78  [102,102,255]',\n  'draw point_79 DIAMETER 20 {-0.166666666667 -0.75 0.559322033898}',\n  'color $point_79  [102,102,255]',\n  'draw point_80 DIAMETER 20 {-0.666666666667 -1.5 -0.457627118644}',\n  'color $point_80  [102,102,255]',\n  'draw point_81 DIAMETER 20 {-1.0 -2.0 -0.152542372881}',\n  'color $point_81  [102,102,255]',\n  'draw point_82 DIAMETER 20 {-1.0 -2.0 -0.254237288136}',\n  'color $point_82  [102,102,255]',\n  'draw point_83 DIAMETER 20 {-0.5 -1.25 -0.0508474576271}',\n  'color $point_83  [102,102,255]',\n  'draw point_84 DIAMETER 20 {-0.166666666667 -1.25 1.16949152542}',\n  'color $point_84  [102,102,255]',\n  'draw point_85 DIAMETER 20 {-1.16666666667 -0.5 0.559322033898}',\n  'color $point_85  [102,102,255]',\n  'draw point_86 DIAMETER 20 {-0.166666666667 0.5 0.559322033898}',\n  'color $point_86  [102,102,255]',\n  'draw point_87 DIAMETER 20 {1.0 -0.25 0.762711864407}',\n  'color $point_87  [102,102,255]',\n  'draw point_88 DIAMETER 20 {0.333333333333 -2.25 0.457627118644}',\n  'color $point_88  [102,102,255]',\n  'draw point_89 DIAMETER 20 {-0.833333333333 -0.5 0.152542372881}',\n  'color $point_89  [102,102,255]',\n  'draw point_90 DIAMETER 20 {-1.0 -1.75 0.0508474576271}',\n  'color $point_90  [102,102,255]',\n  'draw point_91 DIAMETER 20 {-1.0 -1.5 0.457627118644}',\n  'color $point_91  [102,102,255]',\n  'draw point_92 DIAMETER 20 {-1.7763568394e-15 -0.5 0.661016949153}',\n  'color $point_92  [102,102,255]',\n  'draw point_93 DIAMETER 20 {-0.5 -1.5 0.0508474576271}',\n  'color $point_93  [102,102,255]',\n  'draw point_94 DIAMETER 20 {-1.83333333333 -2.25 -0.661016949153}',\n  'color $point_94  [102,102,255]',\n  'draw point_95 DIAMETER 20 {-0.833333333333 -1.25 0.254237288136}',\n  'color $point_95  [102,102,255]',\n  'draw point_96 DIAMETER 20 {-0.666666666667 -0.5 0.254237288136}',\n  'color $point_96  [102,102,255]',\n  'draw point_97 DIAMETER 20 {-0.666666666667 -0.75 0.254237288136}',\n  'color $point_97  [102,102,255]',\n  'draw point_98 DIAMETER 20 {0.166666666667 -0.75 0.35593220339}',\n  'color $point_98  [102,102,255]',\n  'draw point_99 DIAMETER 20 {-1.66666666667 -1.75 -0.966101694915}',\n  'color $point_99  [102,102,255]',\n  'draw point_100 DIAMETER 20 {-0.666666666667 -1.0 0.152542372881}',\n  'color $point_100  [102,102,255]',\n  'draw point_101 DIAMETER 20 {0.333333333333 0.25 2.08474576271}',\n  'color $point_101  [102,102,255]',\n  'draw point_102 DIAMETER 20 {-0.5 -1.25 1.16949152542}',\n  'color $point_102  [102,102,255]',\n  'draw point_103 DIAMETER 20 {1.66666666667 -0.5 1.98305084746}',\n  'color $point_103  [102,102,255]',\n  'draw point_104 DIAMETER 20 {0.333333333333 -0.75 1.67796610169}',\n  'color $point_104  [102,102,255]',\n  'draw point_105 DIAMETER 20 {0.666666666667 -0.5 1.8813559322}',\n  'color $point_105  [102,102,255]',\n  'draw point_106 DIAMETER 20 {2.5 -0.5 2.69491525424}',\n  'color $point_106  [102,102,255]',\n  'draw point_107 DIAMETER 20 {-2.0 -1.75 0.559322033898}',\n  'color $point_107  [102,102,255]',\n  'draw point_108 DIAMETER 20 {2.0 -0.75 2.38983050847}',\n  'color $point_108  [102,102,255]',\n  'draw point_109 DIAMETER 20 {1.0 -1.75 1.8813559322}',\n  'color $point_109  [102,102,255]',\n  'draw point_110 DIAMETER 20 {1.83333333333 1.0 2.18644067797}',\n  'color $point_110  [102,102,255]',\n  'draw point_111 DIAMETER 20 {0.666666666667 0.0 1.16949152542}',\n  'color $point_111  [102,102,255]',\n  'draw point_112 DIAMETER 20 {0.5 -1.25 1.37288135593}',\n  'color $point_112  [102,102,255]',\n  'draw point_113 DIAMETER 20 {1.16666666667 -0.5 1.57627118644}',\n  'color $point_113  [102,102,255]',\n  'draw point_114 DIAMETER 20 {-0.666666666667 -1.75 1.06779661017}',\n  'color $point_114  [102,102,255]',\n  'draw point_115 DIAMETER 20 {-0.5 -1.0 1.16949152542}',\n  'color $point_115  [102,102,255]',\n  'draw point_116 DIAMETER 20 {0.5 0.0 1.37288135593}',\n  'color $point_116  [102,102,255]',\n  'draw point_117 DIAMETER 20 {0.666666666667 -0.5 1.57627118644}',\n  'color $point_117  [102,102,255]',\n  'draw point_118 DIAMETER 20 {2.66666666667 1.5 2.79661016949}',\n  'color $point_118  [102,102,255]',\n  'draw point_119 DIAMETER 20 {2.66666666667 -1.5 3.0}',\n  'color $point_119  [102,102,255]',\n  'draw point_120 DIAMETER 20 {-0.166666666667 -2.5 1.06779661017}',\n  'color $point_120  [102,102,255]',\n  'draw point_121 DIAMETER 20 {1.33333333333 0.0 1.77966101695}',\n  'color $point_121  [102,102,255]',\n  'draw point_122 DIAMETER 20 {-0.833333333333 -1.0 0.966101694915}',\n  'color $point_122  [102,102,255]',\n  'draw point_123 DIAMETER 20 {2.66666666667 -1.0 2.79661016949}',\n  'color $point_123  [102,102,255]',\n  'draw point_124 DIAMETER 20 {0.333333333333 -1.25 0.966101694915}',\n  'color $point_124  [102,102,255]',\n  'draw point_125 DIAMETER 20 {1.0 0.25 1.77966101695}',\n  'color $point_125  [102,102,255]',\n  'draw point_126 DIAMETER 20 {1.83333333333 0.0 2.08474576271}',\n  'color $point_126  [102,102,255]',\n  'draw point_127 DIAMETER 20 {0.166666666667 -1.0 0.864406779661}',\n  'color $point_127  [102,102,255]',\n  'draw point_128 DIAMETER 20 {-1.7763568394e-15 -0.5 0.966101694915}',\n  'color $point_128  [102,102,255]',\n  'draw point_129 DIAMETER 20 {0.5 -1.0 1.67796610169}',\n  'color $point_129  [102,102,255]',\n  'draw point_130 DIAMETER 20 {1.83333333333 -0.5 1.8813559322}',\n  'color $point_130  [102,102,255]',\n  'draw point_131 DIAMETER 20 {2.16666666667 -1.0 2.18644067797}',\n  'color $point_131  [102,102,255]',\n  'draw point_132 DIAMETER 20 {3.0 1.5 2.49152542373}',\n  'color $point_132  [102,102,255]',\n  'draw point_133 DIAMETER 20 {0.5 -1.0 1.67796610169}',\n  'color $point_133  [102,102,255]',\n  'draw point_134 DIAMETER 20 {0.333333333333 -1.0 1.16949152542}',\n  'color $point_134  [102,102,255]',\n  'draw point_135 DIAMETER 20 {-1.7763568394e-15 -1.5 1.67796610169}',\n  'color $point_135  [102,102,255]',\n  'draw point_136 DIAMETER 20 {2.66666666667 -0.5 2.18644067797}',\n  'color $point_136  [102,102,255]',\n  'draw point_137 DIAMETER 20 {0.333333333333 0.5 1.67796610169}',\n  'color $point_137  [102,102,255]',\n  'draw point_138 DIAMETER 20 {0.5 -0.25 1.57627118644}',\n  'color $point_138  [102,102,255]',\n  'draw point_139 DIAMETER 20 {-0.166666666667 -0.5 0.864406779661}',\n  'color $point_139  [102,102,255]',\n  'draw point_140 DIAMETER 20 {1.33333333333 -0.25 1.47457627119}',\n  'color $point_140  [102,102,255]',\n  'draw point_141 DIAMETER 20 {1.0 -0.25 1.67796610169}',\n  'color $point_141  [102,102,255]',\n  'draw point_142 DIAMETER 20 {1.33333333333 -0.25 1.16949152542}',\n  'color $point_142  [102,102,255]',\n  'draw point_143 DIAMETER 20 {-0.5 -1.25 1.16949152542}',\n  'color $point_143  [102,102,255]',\n  'draw point_144 DIAMETER 20 {1.16666666667 0.0 1.98305084746}',\n  'color $point_144  [102,102,255]',\n  'draw point_145 DIAMETER 20 {1.0 0.25 1.77966101695}',\n  'color $point_145  [102,102,255]',\n  'draw point_146 DIAMETER 20 {1.0 -0.5 1.27118644068}',\n  'color $point_146  [102,102,255]',\n  'draw point_147 DIAMETER 20 {0.333333333333 -1.75 1.06779661017}',\n  'color $point_147  [102,102,255]',\n  'draw point_148 DIAMETER 20 {0.666666666667 -0.5 1.27118644068}',\n  'color $point_148  [102,102,255]',\n  'draw point_149 DIAMETER 20 {0.166666666667 0.5 1.47457627119}',\n  'color $point_149  [102,102,255]',\n  'draw point_150 DIAMETER 20 {-0.333333333333 -0.5 1.16949152542}',\n  'color $point_150  [102,102,255]',\n  'draw line_151 diameter 1 curve {-3.0 -3.0 -3.0}  {-3.0 3.0 -3.0} ',\n  'color $line_151 translucent 0.5 [0,0,0]',\n  'draw line_152 diameter 1 curve {-3.0 3.0 -3.0}  {3.0 3.0 -3.0} ',\n  'color $line_152 translucent 0.5 [0,0,0]',\n  'draw line_153 diameter 1 curve {3.0 3.0 -3.0}  {3.0 -3.0 -3.0} ',\n  'color $line_153 translucent 0.5 [0,0,0]',\n  'draw line_154 diameter 1 curve {3.0 -3.0 -3.0}  {-3.0 -3.0 -3.0} ',\n  'color $line_154 translucent 0.5 [0,0,0]',\n  'draw line_155 diameter 1 curve {-3.0 -3.0 -3.0}  {-3.0 -3.0 3.0} ',\n  'color $line_155 translucent 0.5 [0,0,0]',\n  'draw line_156 diameter 1 curve {-3.0 -3.0 3.0}  {-3.0 3.0 3.0} ',\n  'color $line_156 translucent 0.5 [0,0,0]',\n  'draw line_157 diameter 1 curve {-3.0 3.0 3.0}  {3.0 3.0 3.0} ',\n  'color $line_157 translucent 0.5 [0,0,0]',\n  'draw line_158 diameter 1 curve {3.0 3.0 3.0}  {3.0 -3.0 3.0} ',\n  'color $line_158 translucent 0.5 [0,0,0]',\n  'draw line_159 diameter 1 curve {3.0 -3.0 3.0}  {-3.0 -3.0 3.0} ',\n  'color $line_159 translucent 0.5 [0,0,0]',\n  'draw line_160 diameter 1 curve {-3.0 -3.0 3.0} ',\n  'color $line_160 translucent 0.5 [0,0,0]',\n  'draw line_161 diameter 1 curve {-3.0 3.0 -3.0}  {-3.0 3.0 3.0} ',\n  'color $line_161 translucent 0.5 [0,0,0]',\n  'draw line_162 diameter 1 curve {3.0 -3.0 -3.0}  {3.0 -3.0 3.0} ',\n  'color $line_162 translucent 0.5 [0,0,0]',\n  'draw line_163 diameter 1 curve {3.0 3.0 -3.0}  {3.0 3.0 3.0} ',\n  'color $line_163 translucent 0.5 [0,0,0]',\n  'select atomno = 1',\n  'color atom  [76,76,76]',\n  'label &quot;4.3&quot;',\n  'select atomno = 2',\n  'color atom  [76,76,76]',\n  'label &quot;6.1&quot;',\n  'select atomno = 3',\n  'color atom  [76,76,76]',\n  'label &quot;7.9&quot;',\n  'select atomno = 4',\n  'color atom  [76,76,76]',\n  'label &quot;2.0&quot;',\n  'select atomno = 5',\n  'color atom  [76,76,76]',\n  'label &quot;3.2&quot;',\n  'select atomno = 6',\n  'color atom  [76,76,76]',\n  'label &quot;4.4&quot;',\n  'select atomno = 7',\n  'color atom  [76,76,76]',\n  'label &quot;1.0&quot;',\n  'select atomno = 8',\n  'color atom  [76,76,76]',\n  'label &quot;4.0&quot;',\n  'select atomno = 9',\n  'color atom  [76,76,76]',\n  'label &quot;6.9&quot;',\n  'isosurface fullylit; pmesh o* fullylit; set antialiasdisplay on;',\n].join('\\n');;\n    var Info = {\n      width: '100%',\n      height: '500',\n      debug: false,\n      disableInitialConsole: true,   // very slow when used with inline mesh\n      color: '#3131ff',\n      addSelectionOptions: false,\n      use: 'HTML5',\n      j2sPath: '/nbextensions/jsmol/j2s',\n      script: script,\n    };\n    var jmolApplet0 = Jmol.getApplet('jmolApplet0', Info);\n  </script>\n</body>\n</html>\n\" \n        width=\"100%\"\n        height=\"500\"\n        style=\"border: 0;\">\n</iframe>\n",
      "text/plain": [
       "Graphics3d Object"
      ]
     },
     "execution_count": 6,
     "metadata": {
     },
     "output_type": "execute_result"
    }
   ],
   "source": [
    "import csv\n",
    "irises = csv.reader(open(\"iris.data\"))\n",
    "data = []\n",
    "for flower in irises:\n",
    "    data.append(vector([float(flower[0]), float(flower[1]),float(flower[2])]))\n",
    "list_plot(data, size=20)"
   ]
  },
  {
   "cell_type": "code",
   "execution_count": 7,
   "metadata": {
    "collapsed": false
   },
   "outputs": [
    {
     "data": {
      "text/plain": [
       "[(5.1, 3.5, 1.4),\n",
       " (4.9, 3.0, 1.4),\n",
       " (4.7, 3.2, 1.3),\n",
       " (4.6, 3.1, 1.5),\n",
       " (5.0, 3.6, 1.4),\n",
       " (5.4, 3.9, 1.7),\n",
       " (4.6, 3.4, 1.4),\n",
       " (5.0, 3.4, 1.5),\n",
       " (4.4, 2.9, 1.4),\n",
       " (4.9, 3.1, 1.5),\n",
       " (5.4, 3.7, 1.5),\n",
       " (4.8, 3.4, 1.6),\n",
       " (4.8, 3.0, 1.4),\n",
       " (4.3, 3.0, 1.1),\n",
       " (5.8, 4.0, 1.2),\n",
       " (5.7, 4.4, 1.5),\n",
       " (5.4, 3.9, 1.3),\n",
       " (5.1, 3.5, 1.4),\n",
       " (5.7, 3.8, 1.7),\n",
       " (5.1, 3.8, 1.5),\n",
       " (5.4, 3.4, 1.7),\n",
       " (5.1, 3.7, 1.5),\n",
       " (4.6, 3.6, 1.0),\n",
       " (5.1, 3.3, 1.7),\n",
       " (4.8, 3.4, 1.9),\n",
       " (5.0, 3.0, 1.6),\n",
       " (5.0, 3.4, 1.6),\n",
       " (5.2, 3.5, 1.5),\n",
       " (5.2, 3.4, 1.4),\n",
       " (4.7, 3.2, 1.6),\n",
       " (4.8, 3.1, 1.6),\n",
       " (5.4, 3.4, 1.5),\n",
       " (5.2, 4.1, 1.5),\n",
       " (5.5, 4.2, 1.4),\n",
       " (4.9, 3.1, 1.5),\n",
       " (5.0, 3.2, 1.2),\n",
       " (5.5, 3.5, 1.3),\n",
       " (4.9, 3.1, 1.5),\n",
       " (4.4, 3.0, 1.3),\n",
       " (5.1, 3.4, 1.5),\n",
       " (5.0, 3.5, 1.3),\n",
       " (4.5, 2.3, 1.3),\n",
       " (4.4, 3.2, 1.3),\n",
       " (5.0, 3.5, 1.6),\n",
       " (5.1, 3.8, 1.9),\n",
       " (4.8, 3.0, 1.4),\n",
       " (5.1, 3.8, 1.6),\n",
       " (4.6, 3.2, 1.4),\n",
       " (5.3, 3.7, 1.5),\n",
       " (5.0, 3.3, 1.4),\n",
       " (7.0, 3.2, 4.7),\n",
       " (6.4, 3.2, 4.5),\n",
       " (6.9, 3.1, 4.9),\n",
       " (5.5, 2.3, 4.0),\n",
       " (6.5, 2.8, 4.6),\n",
       " (5.7, 2.8, 4.5),\n",
       " (6.3, 3.3, 4.7),\n",
       " (4.9, 2.4, 3.3),\n",
       " (6.6, 2.9, 4.6),\n",
       " (5.2, 2.7, 3.9),\n",
       " (5.0, 2.0, 3.5),\n",
       " (5.9, 3.0, 4.2),\n",
       " (6.0, 2.2, 4.0),\n",
       " (6.1, 2.9, 4.7),\n",
       " (5.6, 2.9, 3.6),\n",
       " (6.7, 3.1, 4.4),\n",
       " (5.6, 3.0, 4.5),\n",
       " (5.8, 2.7, 4.1),\n",
       " (6.2, 2.2, 4.5),\n",
       " (5.6, 2.5, 3.9),\n",
       " (5.9, 3.2, 4.8),\n",
       " (6.1, 2.8, 4.0),\n",
       " (6.3, 2.5, 4.9),\n",
       " (6.1, 2.8, 4.7),\n",
       " (6.4, 2.9, 4.3),\n",
       " (6.6, 3.0, 4.4),\n",
       " (6.8, 2.8, 4.8),\n",
       " (6.7, 3.0, 5.0),\n",
       " (6.0, 2.9, 4.5),\n",
       " (5.7, 2.6, 3.5),\n",
       " (5.5, 2.4, 3.8),\n",
       " (5.5, 2.4, 3.7),\n",
       " (5.8, 2.7, 3.9),\n",
       " (6.0, 2.7, 5.1),\n",
       " (5.4, 3.0, 4.5),\n",
       " (6.0, 3.4, 4.5),\n",
       " (6.7, 3.1, 4.7),\n",
       " (6.3, 2.3, 4.4),\n",
       " (5.6, 3.0, 4.1),\n",
       " (5.5, 2.5, 4.0),\n",
       " (5.5, 2.6, 4.4),\n",
       " (6.1, 3.0, 4.6),\n",
       " (5.8, 2.6, 4.0),\n",
       " (5.0, 2.3, 3.3),\n",
       " (5.6, 2.7, 4.2),\n",
       " (5.7, 3.0, 4.2),\n",
       " (5.7, 2.9, 4.2),\n",
       " (6.2, 2.9, 4.3),\n",
       " (5.1, 2.5, 3.0),\n",
       " (5.7, 2.8, 4.1),\n",
       " (6.3, 3.3, 6.0),\n",
       " (5.8, 2.7, 5.1),\n",
       " (7.1, 3.0, 5.9),\n",
       " (6.3, 2.9, 5.6),\n",
       " (6.5, 3.0, 5.8),\n",
       " (7.6, 3.0, 6.6),\n",
       " (4.9, 2.5, 4.5),\n",
       " (7.3, 2.9, 6.3),\n",
       " (6.7, 2.5, 5.8),\n",
       " (7.2, 3.6, 6.1),\n",
       " (6.5, 3.2, 5.1),\n",
       " (6.4, 2.7, 5.3),\n",
       " (6.8, 3.0, 5.5),\n",
       " (5.7, 2.5, 5.0),\n",
       " (5.8, 2.8, 5.1),\n",
       " (6.4, 3.2, 5.3),\n",
       " (6.5, 3.0, 5.5),\n",
       " (7.7, 3.8, 6.7),\n",
       " (7.7, 2.6, 6.9),\n",
       " (6.0, 2.2, 5.0),\n",
       " (6.9, 3.2, 5.7),\n",
       " (5.6, 2.8, 4.9),\n",
       " (7.7, 2.8, 6.7),\n",
       " (6.3, 2.7, 4.9),\n",
       " (6.7, 3.3, 5.7),\n",
       " (7.2, 3.2, 6.0),\n",
       " (6.2, 2.8, 4.8),\n",
       " (6.1, 3.0, 4.9),\n",
       " (6.4, 2.8, 5.6),\n",
       " (7.2, 3.0, 5.8),\n",
       " (7.4, 2.8, 6.1),\n",
       " (7.9, 3.8, 6.4),\n",
       " (6.4, 2.8, 5.6),\n",
       " (6.3, 2.8, 5.1),\n",
       " (6.1, 2.6, 5.6),\n",
       " (7.7, 3.0, 6.1),\n",
       " (6.3, 3.4, 5.6),\n",
       " (6.4, 3.1, 5.5),\n",
       " (6.0, 3.0, 4.8),\n",
       " (6.9, 3.1, 5.4),\n",
       " (6.7, 3.1, 5.6),\n",
       " (6.9, 3.1, 5.1),\n",
       " (5.8, 2.7, 5.1),\n",
       " (6.8, 3.2, 5.9),\n",
       " (6.7, 3.3, 5.7),\n",
       " (6.7, 3.0, 5.2),\n",
       " (6.3, 2.5, 5.0),\n",
       " (6.5, 3.0, 5.2),\n",
       " (6.2, 3.4, 5.4),\n",
       " (5.9, 3.0, 5.1)]"
      ]
     },
     "execution_count": 7,
     "metadata": {
     },
     "output_type": "execute_result"
    }
   ],
   "source": [
    "data"
   ]
  },
  {
   "cell_type": "markdown",
   "metadata": {
    "collapsed": false
   },
   "source": [
    "The centroids after 30 iterations using $k=3$ clusters:"
   ]
  },
  {
   "cell_type": "code",
   "execution_count": 8,
   "metadata": {
    "collapsed": false,
    "scrolled": true
   },
   "outputs": [
    {
     "data": {
      "text/plain": [
       "[50, 40, 60]"
      ]
     },
     "execution_count": 8,
     "metadata": {
     },
     "output_type": "execute_result"
    }
   ],
   "source": [
    "clusters, centroids = kmeans(data, 3, 20)\n",
    "[len(clusters[i]) for i in range(len(clusters))]\n"
   ]
  },
  {
   "cell_type": "code",
   "execution_count": 0,
   "metadata": {
    "collapsed": false
   },
   "outputs": [
   ],
   "source": [
   ]
  },
  {
   "cell_type": "markdown",
   "metadata": {
    "collapsed": false
   },
   "source": [
    "A plot of the same points, colored by measurement type. The centroids are shown in black:"
   ]
  },
  {
   "cell_type": "code",
   "execution_count": 0,
   "metadata": {
    "collapsed": false
   },
   "outputs": [
   ],
   "source": [
    "plot = list_plot(centroids, color='black', size=50)\n",
    "colors = [ 'red','yellow','magenta']\n",
    "for j in range(len(clusters)):\n",
    "    plot = plot + list_plot(clusters[j], color=colors[j], size=20)\n",
    "plot"
   ]
  },
  {
   "cell_type": "code",
   "execution_count": 0,
   "metadata": {
    "collapsed": false
   },
   "outputs": [
   ],
   "source": [
   ]
  }
 ],
 "metadata": {
  "kernelspec": {
   "display_name": "SageMath (stable)",
   "language": "sagemath",
   "metadata": {
    "cocalc": {
     "description": "Open-source mathematical software system",
     "priority": 10,
     "url": "https://www.sagemath.org/"
    }
   },
   "name": "sagemath"
  },
  "language_info": {
   "codemirror_mode": {
    "name": "ipython",
    "version": 2
   },
   "file_extension": ".py",
   "mimetype": "text/x-python",
   "name": "python",
   "nbconvert_exporter": "python",
   "pygments_lexer": "ipython2",
   "version": "2.7.15"
  }
 },
 "nbformat": 4,
 "nbformat_minor": 0
}