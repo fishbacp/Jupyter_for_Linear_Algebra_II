{
 "cells": [
  {
   "cell_type": "markdown",
   "metadata": {
    "collapsed": false
   },
   "source": [
    "## Multiple Regression Linear Regression\n",
    "### Make sure to execute the function <code>vectors2matrix</code> below."
   ]
  },
  {
   "cell_type": "code",
   "execution_count": 89,
   "metadata": {
    "collapsed": false
   },
   "outputs": [
   ],
   "source": [
    "def vectors2matrix(vectors):\n",
    "    return matrix(CDF,vectors).transpose()"
   ]
  },
  {
   "cell_type": "markdown",
   "metadata": {
    "collapsed": false
   },
   "source": [
    "Multiple linear regression refers to the proccess of constructing a multivariable linear function from a set of data. The \n",
    "input data consists of vectors $\\mathbf{x}$ in $\\mathbb R^n$, each of which is associated to some output quantity. If\n",
    "we denote the independent variables as $x_1, x_2, \\ldots, x_n$, then we seek to find a vector coefficients,\n",
    "$\\beta_0, \\beta_1, \\ldots,\\beta_n$ such that the linear function,\n",
    "\n",
    "$$ L(x_,x_2,\\ldots,x_n)=\\beta_0+\\beta_1x_1+\\beta_2x_2 +\\cdots + \\beta_n x_n$$\n",
    "\n",
    "best fits the data in the sense of least-squares. \n",
    "\n",
    "In this example, we consider data points, where the inputs correspond to an individual's weight, height, abdomen\n",
    "circumference, wrist circumference, and neck circumference and the outputs correspond to body fat index, BFI. \n",
    "Height is measured inches. All other length units are centimeters. \n",
    "\n",
    "We first enter each of the five measurements as vectors. "
   ]
  },
  {
   "cell_type": "code",
   "execution_count": 90,
   "metadata": {
    "collapsed": false
   },
   "outputs": [
   ],
   "source": [
    "wt=vector([154,173,154,185,184,210,181,176,191,199])"
   ]
  },
  {
   "cell_type": "code",
   "execution_count": 91,
   "metadata": {
    "collapsed": false
   },
   "outputs": [
   ],
   "source": [
    "ht=vector([68,72,66,72,71,75,70,73,74,74])"
   ]
  },
  {
   "cell_type": "code",
   "execution_count": 92,
   "metadata": {
    "collapsed": false
   },
   "outputs": [
   ],
   "source": [
    "abdomen=vector([85,83,88,86,100,94,91,89,83,89])"
   ]
  },
  {
   "cell_type": "code",
   "execution_count": 93,
   "metadata": {
    "collapsed": false
   },
   "outputs": [
   ],
   "source": [
    "wrist=vector([17,18,17,18,18,19,18,19,18,19])"
   ]
  },
  {
   "cell_type": "code",
   "execution_count": 94,
   "metadata": {
    "collapsed": false
   },
   "outputs": [
   ],
   "source": [
    "neck=vector([36,39,34,37,34,39,36,38,38,42])"
   ]
  },
  {
   "cell_type": "markdown",
   "metadata": {
    "collapsed": false
   },
   "source": [
    "We now enter the corresponding BFI values in a vector, $\\mathbf{Y}$."
   ]
  },
  {
   "cell_type": "code",
   "execution_count": 95,
   "metadata": {
    "collapsed": false
   },
   "outputs": [
   ],
   "source": [
    "Y=vector([13,7,25,11,28,21,19,13,5,12])"
   ]
  },
  {
   "cell_type": "code",
   "execution_count": 96,
   "metadata": {
    "collapsed": false
   },
   "outputs": [
    {
     "data": {
      "text/plain": [
       "(1, 1, 1, 1, 1, 1, 1, 1, 1, 1)"
      ]
     },
     "execution_count": 96,
     "metadata": {
     },
     "output_type": "execute_result"
    }
   ],
   "source": [
    "onevec= vector(ones_matrix(QQ, 1, len(Y)));\n",
    "onevec"
   ]
  },
  {
   "cell_type": "markdown",
   "metadata": {
    "collapsed": false
   },
   "source": [
    "We will define a matrix, $X$, whose first column consists of one's and whose remaining columns are formed using the five measurements."
   ]
  },
  {
   "cell_type": "code",
   "execution_count": 97,
   "metadata": {
    "collapsed": false
   },
   "outputs": [
    {
     "data": {
      "text/plain": [
       "[  1.0 154.0  68.0  85.0  17.0  36.0]\n",
       "[  1.0 173.0  72.0  83.0  18.0  39.0]\n",
       "[  1.0 154.0  66.0  88.0  17.0  34.0]\n",
       "[  1.0 185.0  72.0  86.0  18.0  37.0]\n",
       "[  1.0 184.0  71.0 100.0  18.0  34.0]\n",
       "[  1.0 210.0  75.0  94.0  19.0  39.0]\n",
       "[  1.0 181.0  70.0  91.0  18.0  36.0]\n",
       "[  1.0 176.0  73.0  89.0  19.0  38.0]\n",
       "[  1.0 191.0  74.0  83.0  18.0  38.0]\n",
       "[  1.0 199.0  74.0  89.0  19.0  42.0]"
      ]
     },
     "execution_count": 97,
     "metadata": {
     },
     "output_type": "execute_result"
    }
   ],
   "source": [
    "X=vectors2matrix([onevec,wt,ht,abdomen,wrist,neck])\n",
    "X"
   ]
  },
  {
   "cell_type": "markdown",
   "metadata": {
    "collapsed": false
   },
   "source": [
    "Analogous to simple linear regression we wish to minimize the sum of squared errors\n",
    "the \"sum of squared errors,\" which is given by\n",
    "$$ SS_E=\\sum_{i=1}^n ((\\beta_0+\\beta_1x_i+\\cdots+\\beta_nx_n)-Y_i)^2,$$\n",
    "where $n$ denotes the number of data points and where $\\beta_0,\\beta_1,\\ldots,\\beta_n$ are the\n",
    "parameters we wish to determine.\n",
    "\n",
    "In matrix form, we can rewrite the above sum as\n",
    "$$\\| X\\boldsymbol{\\beta}-\\mathbf{Y}\\|^2,$$\n",
    "\n",
    "where $\\boldsymbol{\\beta}=\\begin{bmatrix} \\beta_0 \\\\ \\beta_1 \\\\ \\vdots \\\\ \\beta_n\\end{bmatrix}$ and $\\mathbf{Y}$.\n",
    "\n",
    "Similar to the simple linear regression problem, we can determine $\\boldsymbol{\\beta}$ as\n",
    "\n",
    "$$\\boldsymbol{\\beta}=(X^tX)^{-1}X^tY.$$"
   ]
  },
  {
   "cell_type": "code",
   "execution_count": 98,
   "metadata": {
    "collapsed": false
   },
   "outputs": [
    {
     "data": {
      "text/plain": [
       "(54.084814929294446, 0.18837023029194494, -2.6226305344968646, 0.9161538538385828, 2.701982416451811, -0.41462671005832563)"
      ]
     },
     "execution_count": 98,
     "metadata": {
     },
     "output_type": "execute_result"
    }
   ],
   "source": [
    "Beta=(X.transpose()*X).inverse()*X.transpose()*Y\n",
    "Beta"
   ]
  },
  {
   "cell_type": "markdown",
   "metadata": {
    "collapsed": false
   },
   "source": [
    "The \"coefficient of determination,\" sometimes referred to as the \"R-squared value\" measures the fraction\n",
    "of variance (a statistics term measuring data spread about its mean) explained by our model. More specifically,\n",
    "\n",
    "$$R^2= 1-\\frac{SS_E}{SS_{\\mbox{tot}}},$$\n",
    "where $SS_{\\mbox{tot}}$ is the variance of $Y$."
   ]
  },
  {
   "cell_type": "code",
   "execution_count": 99,
   "metadata": {
    "collapsed": false
   },
   "outputs": [
    {
     "data": {
      "text/plain": [
       "24.93180325123729"
      ]
     },
     "execution_count": 99,
     "metadata": {
     },
     "output_type": "execute_result"
    }
   ],
   "source": [
    "SSerror=((X*vectors2matrix(Beta))-vectors2matrix(Y)).norm()^2\n",
    "SSerror"
   ]
  },
  {
   "cell_type": "code",
   "execution_count": 100,
   "metadata": {
    "collapsed": false
   },
   "outputs": [
    {
     "data": {
      "text/plain": [
       "6666724/2025"
      ]
     },
     "execution_count": 100,
     "metadata": {
     },
     "output_type": "execute_result"
    }
   ],
   "source": [
    "SStot=variance(Y)^2\n",
    "SStot"
   ]
  },
  {
   "cell_type": "code",
   "execution_count": 101,
   "metadata": {
    "collapsed": false
   },
   "outputs": [
    {
     "data": {
      "text/plain": [
       "0.9924270298899797"
      ]
     },
     "execution_count": 101,
     "metadata": {
     },
     "output_type": "execute_result"
    }
   ],
   "source": [
    "Rsquared=1-SSerror/SStot\n",
    "Rsquared"
   ]
  },
  {
   "cell_type": "markdown",
   "metadata": {
    "collapsed": false
   },
   "source": [
    "Calculating $\\boldsymbol{\\beta}$ using the method above requires computing $(X^tX)^{-1}$, which is computationally inefficient. \n",
    "\n",
    "A better approach is to utilize the $QR$ decomposition of $X$. Suppose $X=QR$, where $Q$ has orthnormal columns and where $R$ is \n",
    "upper triangular with positive diagonal entries. Recall that $Q^tQ=I_n$, the identity matrix and that $R$ is invertible, whence so is $R^t$.\n",
    "\n",
    "Using transpose properties, we have,\n",
    "\n",
    "\\begin{align*}\n",
    "X^tX\\boldsymbol{\\beta}&=X^tY \\\\\n",
    "(QR)^tQR \\boldsymbol{\\beta}&=(QR)^tY\\\\\n",
    "R^tQ^tQR\\boldsymbol{\\beta}&=R^tQ^tY \\\\\n",
    "R^tR\\boldsymbol{\\beta}&=R^t Q^tY \\\\\n",
    "R\\boldsymbol{\\beta}&=Q^tY.\n",
    "\\end{align*}\n",
    "\n",
    "So, here's the end result. Once we have $Q$, set $z=Q^tY$. Then solve $R\\boldsymbol{\\beta}=z$ using \n",
    "back substitution. No matrix inversion is required, even to compute $Q$ and $R$ if you recall."
   ]
  },
  {
   "cell_type": "code",
   "execution_count": 102,
   "metadata": {
    "collapsed": false
   },
   "outputs": [
   ],
   "source": [
    "Q,R=X.QR()\n",
    "R=n(R,digits=3)\n",
    "Q=n(Q,digits=3)"
   ]
  },
  {
   "cell_type": "code",
   "execution_count": 103,
   "metadata": {
    "collapsed": false
   },
   "outputs": [
    {
     "data": {
      "text/plain": [
       "[-3.16 -571. -226. -281. -57.2 -118.]\n",
       "[0.000  53.3  7.58  5.42  1.81  4.45]\n",
       "[0.000 0.000  3.89 -8.25 0.721  3.55]\n",
       "[0.000 0.000 0.000  12.3 0.518 -2.46]\n",
       "[0.000 0.000 0.000 0.000 0.918  2.59]\n",
       "[0.000 0.000 0.000 0.000 0.000  2.99]\n",
       "[0.000 0.000 0.000 0.000 0.000 0.000]\n",
       "[0.000 0.000 0.000 0.000 0.000 0.000]\n",
       "[0.000 0.000 0.000 0.000 0.000 0.000]\n",
       "[0.000 0.000 0.000 0.000 0.000 0.000]"
      ]
     },
     "execution_count": 103,
     "metadata": {
     },
     "output_type": "execute_result"
    }
   ],
   "source": [
    "R"
   ]
  },
  {
   "cell_type": "markdown",
   "metadata": {
    "collapsed": false
   },
   "source": [
    "Observe that the matrix $R$ consists of many rows of zeros. Without elaborating on the reasons why, we must use the square matrix obtained by using the top six rows, which we call <code>Rreduced</code>."
   ]
  },
  {
   "cell_type": "code",
   "execution_count": 104,
   "metadata": {
    "collapsed": false
   },
   "outputs": [
    {
     "data": {
      "text/plain": [
       "[-3.16 -571. -226. -281. -57.2 -118.]\n",
       "[0.000  53.3  7.58  5.42  1.81  4.45]\n",
       "[0.000 0.000  3.89 -8.25 0.721  3.55]\n",
       "[0.000 0.000 0.000  12.3 0.518 -2.46]\n",
       "[0.000 0.000 0.000 0.000 0.918  2.59]\n",
       "[0.000 0.000 0.000 0.000 0.000  2.99]"
      ]
     },
     "execution_count": 104,
     "metadata": {
     },
     "output_type": "execute_result"
    }
   ],
   "source": [
    "Rreduced=R.matrix_from_rows([0,1,2,3,4,5])\n",
    "Rreduced"
   ]
  },
  {
   "cell_type": "code",
   "execution_count": 105,
   "metadata": {
    "collapsed": false
   },
   "outputs": [
    {
     "data": {
      "text/plain": [
       "[  -0.316   -0.501   0.0769  -0.0368   -0.250    0.406  -0.0205   -0.127   -0.133   -0.616]\n",
       "[  -0.316   -0.145    0.411   -0.133  -0.0714    0.248    0.218   -0.349   -0.211    0.642]\n",
       "[  -0.316   -0.501   -0.438   -0.138    0.211   -0.134   -0.457  0.00578    0.270    0.305]\n",
       "[  -0.316   0.0807  -0.0288   -0.283  -0.0855   -0.346   -0.113    0.425   -0.701  -0.0153]\n",
       "[  -0.316   0.0620   -0.250    0.718   -0.440   0.0733    0.100    0.258   0.0229    0.203]\n",
       "[  -0.316    0.550   -0.172   0.0654 -0.00517   0.0128   -0.412   -0.601   -0.113   -0.138]\n",
       "[  -0.316  0.00563   -0.397  -0.0901    0.242   -0.255    0.736   -0.213   0.0475   -0.144]\n",
       "[  -0.316  -0.0883    0.558    0.431    0.473   -0.352  -0.0866   0.0420   0.0943   -0.172]\n",
       "[  -0.316    0.193    0.266   -0.379   -0.485   -0.263   0.0142    0.122    0.569  -0.0645]\n",
       "[  -0.316    0.344  -0.0267   -0.153    0.411    0.610   0.0211    0.438    0.156 -0.00117]"
      ]
     },
     "execution_count": 105,
     "metadata": {
     },
     "output_type": "execute_result"
    }
   ],
   "source": [
    "Q"
   ]
  },
  {
   "cell_type": "code",
   "execution_count": 106,
   "metadata": {
    "collapsed": false
   },
   "outputs": [
    {
     "data": {
      "text/plain": [
       "[1.00 154. 68.0 85.0 17.0 36.0]\n",
       "[1.00 173. 72.0 83.0 18.0 39.0]\n",
       "[1.00 154. 66.0 88.0 17.0 34.0]\n",
       "[1.00 185. 72.0 86.0 18.0 37.0]\n",
       "[1.00 184. 71.0 100. 18.0 34.0]\n",
       "[1.00 210. 75.0 94.0 19.0 39.0]\n",
       "[1.00 181. 70.0 91.0 18.0 36.0]\n",
       "[1.00 176. 73.0 89.0 19.0 38.0]\n",
       "[1.00 191. 74.0 83.0 18.0 38.0]\n",
       "[1.00 199. 74.0 89.0 19.0 42.0]"
      ]
     },
     "execution_count": 106,
     "metadata": {
     },
     "output_type": "execute_result"
    }
   ],
   "source": [
    "Q*R"
   ]
  },
  {
   "cell_type": "code",
   "execution_count": 107,
   "metadata": {
    "collapsed": false
   },
   "outputs": [
    {
     "data": {
      "text/plain": [
       "[   -48.6953125]\n",
       "[-1.83544921875]\n",
       "[  -17.26953125]\n",
       "[   13.65234375]\n",
       "[  1.4091796875]\n",
       "[ -1.2392578125]"
      ]
     },
     "execution_count": 107,
     "metadata": {
     },
     "output_type": "execute_result"
    }
   ],
   "source": [
    "z=Q.transpose()*Y\n",
    "z=vectors2matrix(z)\n",
    "z=z.matrix_from_rows([0,1,2,3,4,5])\n",
    "z"
   ]
  },
  {
   "cell_type": "code",
   "execution_count": 108,
   "metadata": {
    "collapsed": false
   },
   "outputs": [
    {
     "data": {
      "text/plain": [
       "[  54.1]\n",
       "[ 0.188]\n",
       "[ -2.62]\n",
       "[ 0.916]\n",
       "[  2.70]\n",
       "[-0.414]"
      ]
     },
     "execution_count": 108,
     "metadata": {
     },
     "output_type": "execute_result"
    }
   ],
   "source": [
    "Rreduced.solve_right(z)"
   ]
  },
  {
   "cell_type": "code",
   "execution_count": 109,
   "metadata": {
    "collapsed": false
   },
   "outputs": [
    {
     "data": {
      "text/plain": [
       "(54.084814929294446, 0.18837023029194494, -2.6226305344968646, 0.9161538538385828, 2.701982416451811, -0.41462671005832563)"
      ]
     },
     "execution_count": 109,
     "metadata": {
     },
     "output_type": "execute_result"
    }
   ],
   "source": [
    "Beta"
   ]
  }
 ],
 "metadata": {
  "kernelspec": {
   "display_name": "SageMath (stable)",
   "language": "sagemath",
   "metadata": {
    "cocalc": {
     "description": "Open-source mathematical software system",
     "priority": 10,
     "url": "https://www.sagemath.org/"
    }
   },
   "name": "sagemath"
  },
  "language_info": {
   "codemirror_mode": {
    "name": "ipython",
    "version": 2
   },
   "file_extension": ".py",
   "mimetype": "text/x-python",
   "name": "python",
   "nbconvert_exporter": "python",
   "pygments_lexer": "ipython2",
   "version": "2.7.15"
  }
 },
 "nbformat": 4,
 "nbformat_minor": 0
}