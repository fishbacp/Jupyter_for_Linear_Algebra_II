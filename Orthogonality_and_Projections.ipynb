{
 "cells": [
  {
   "cell_type": "markdown",
   "metadata": {
    "collapsed": false
   },
   "source": [
    "## Orthogonal Projections, Gram-Schmidt, and Orthogonal Matrix Projections\n",
    "\n",
    "We've been looking at some concepts like orthogonal and orthonormal bases and orthogonal projections.  I'd like for us to go over some of these concepts again using Sage to facilitate the computations.\n",
    "\n",
    "1. The projection of the vector $\\mathbf{u}$ onto $\\mathbf{v}$, written $\\mbox{proj}_{\\mathbf{v}}\\mathbf{u}$, is given\n",
    "by \n",
    "$$\\mbox{proj}_{\\mathbf{v}}\\mathbf{u}=\\frac{{\\mathbf u}\\cdot{\\mathbf v}}{{\\mathbf v}\\cdot{\\mathbf v}}{\\mathbf v}.$$\n",
    "Once the vectors <code>u</code> and <code>v</code> have been created, this projection\n",
    "can be computed using the first function <code>proj(u,v)</code> below.\n",
    "\n",
    "2. If ${\\mathbf b}$ is a vector in ${\\mathbb R}^m$ and ${\\mathbf v}_1, {\\mathbf v}_2, \\ldots, {\\mathbf v}_k$ is a basis for a $k$-dimensional subspace $W$ of ${\\mathbb R}^m$, then the orthogonal projection of ${\\mathbf b}$ onto $W$, written $\\mbox{proj}_W \\mathbf{b}$,is given by\n",
    "$$\n",
    "\\mbox{proj}_W \\mathbf{b}=\\frac{{\\mathbf b}\\cdot{\\mathbf v}_1}{{\\mathbf v}_1\\cdot{\\mathbf v}_1}{\\mathbf v}_1 + \n",
    "\\frac{{\\mathbf b}\\cdot{\\mathbf v}_2}{{\\mathbf v}_2\\cdot{\\mathbf v}_2}{\\mathbf v}_2 + \\ldots +\n",
    "\\frac{{\\mathbf b}\\cdot{\\mathbf v}_k}{{\\mathbf v}_n\\cdot{\\mathbf v}_k}{\\mathbf v}_k.\n",
    "$$\n",
    "\n",
    "Once the vectors <code>b</code>,<code>v1</code>,<code>v2</code>,etc., have been entered, this projection can be computed\n",
    "using the second function below by entering <code>basis=[v1,v2,...]</code> followed by <code>projection(b,basis)</code>.\n",
    "\n",
    "3. The third function <code>unit(v)</code> will return the unit vector defined by the vector <code>v</code>.\n",
    "\n",
    "4. The fourth function <code>vectors2matrix(vectors)</code> forms the matrix whose columns are in the list defined by <code>vectors</code>. For example, if <code>v1</code>, <code>v2</code>, and <code>v2</code> have been entered, then <code>vectors2matrix([v1,v2,v3])</code> returns\n",
    "a matrix having these columns as vectors. Notice the extra brackets enclosing the vectors' names.\n",
    "\n",
    "### Warning: If you don't evaluate the cells below, the functions won't work!"
   ]
  },
  {
   "cell_type": "code",
   "execution_count": 0,
   "metadata": {
    "collapsed": false
   },
   "outputs": [
   ],
   "source": [
    "def proj(u,v):\n",
    "    return u.dot_product(v)/v.norm()^2*v\n",
    "\n",
    "def projection(b, basis):\n",
    "    return sum([b.dot_product(v)/v.dot_product(v)*v for v in basis])\n",
    "\n",
    "def unit(v):\n",
    "    return v/v.norm()\n",
    "\n",
    "def vectors2matrix(vectors):\n",
    "    return matrix(vectors).transpose()"
   ]
  },
  {
   "cell_type": "markdown",
   "metadata": {
    "collapsed": false
   },
   "source": [
    "Here are a few examples to show you how these commands can be used."
   ]
  },
  {
   "cell_type": "code",
   "execution_count": 0,
   "metadata": {
    "collapsed": false
   },
   "outputs": [
   ],
   "source": [
    "u=vector([1,2,3])\n",
    "v=vector([4,5,6])\n",
    "proj(u,v)"
   ]
  },
  {
   "cell_type": "code",
   "execution_count": 0,
   "metadata": {
    "collapsed": false
   },
   "outputs": [
   ],
   "source": [
    "b=vector([-1,5,3])\n",
    "projection(b,[u,v])"
   ]
  },
  {
   "cell_type": "code",
   "execution_count": 0,
   "metadata": {
    "collapsed": false
   },
   "outputs": [
   ],
   "source": [
    "unit(u)"
   ]
  },
  {
   "cell_type": "code",
   "execution_count": 0,
   "metadata": {
    "collapsed": false
   },
   "outputs": [
   ],
   "source": [
    "vectors2matrix([u,v])"
   ]
  },
  {
   "cell_type": "markdown",
   "metadata": {
    "collapsed": false
   },
   "source": [
    "### Here is where you should start:\n",
    "\n",
    "The vectors ${\\mathbf v}_1 = \\begin{bmatrix}1 \\\\ 1 \\\\ -1 \\end{bmatrix}$ and ${\\mathbf v}_2 = \\begin{bmatrix} 1 \\\\ -2 \\\\ -1 \\end{bmatrix}$ form an orthogonal basis for a plane $W$ in ${\\mathbb R}^3$. Enter them below."
   ]
  },
  {
   "cell_type": "code",
   "execution_count": 0,
   "metadata": {
    "collapsed": false
   },
   "outputs": [
   ],
   "source": [
   ]
  },
  {
   "cell_type": "markdown",
   "metadata": {
    "collapsed": false
   },
   "source": [
    "Suppose $\\mathbf{b}=\\begin{bmatrix} 2 \\\\ 2 \\\\ -3 \\end{bmatrix}$. Calculate $\\mbox{proj}_W \\mathbf{b}$, that is the orthogonal projection \n",
    "of ${\\mathbf b}$ onto $W$, using the <code> projection </code> function above."
   ]
  },
  {
   "cell_type": "code",
   "execution_count": 0,
   "metadata": {
    "collapsed": false
   },
   "outputs": [
   ],
   "source": [
   ]
  },
  {
   "cell_type": "markdown",
   "metadata": {
    "collapsed": false
   },
   "source": [
    "An orthonormal basis is an orthogonal basis with the additional property that the length of each vector in the basis is one. For example, the standard basis vectors, $\\mathbf{e}_1$, $\\mathbf{e}_2$, and $\\mathbf{e}_3$ form an orthonormal basis for $\\mathbb R^3$.\n",
    "\n",
    "The simplest wasy to construct an orthonormal basis from an orthogonal one is to take each basis vector and divide it\n",
    "by its length, thus making it a unit vector.\n",
    "\n",
    "Find vectors ${\\mathbf u}_1$ and ${\\mathbf u}_2$ that form an orthonormal basis for the plane $W$. This will require using\n",
    "the <code>unit</code> function above (twice)."
   ]
  },
  {
   "cell_type": "code",
   "execution_count": 0,
   "metadata": {
    "collapsed": false
   },
   "outputs": [
   ],
   "source": [
   ]
  },
  {
   "cell_type": "code",
   "execution_count": 0,
   "metadata": {
    "collapsed": false
   },
   "outputs": [
   ],
   "source": [
   ]
  },
  {
   "cell_type": "markdown",
   "metadata": {
    "collapsed": false
   },
   "source": [
    "Form the matrix $Q$ whose columns are ${\\mathbf u}_1$ and ${\\mathbf u}_2$. Use the <code>vectors2matrix</code> function for this purpose."
   ]
  },
  {
   "cell_type": "code",
   "execution_count": 0,
   "metadata": {
    "collapsed": false
   },
   "outputs": [
   ],
   "source": [
   ]
  },
  {
   "cell_type": "markdown",
   "metadata": {
    "collapsed": false
   },
   "source": [
    "Now find the matrix $P = QQ^T$. Note that matrix multiplication is done with the * symbol and the\n",
    "transpose is entered as <code>Q.transpose()</code>."
   ]
  },
  {
   "cell_type": "code",
   "execution_count": 0,
   "metadata": {
    "collapsed": false
   },
   "outputs": [
   ],
   "source": [
   ]
  },
  {
   "cell_type": "markdown",
   "metadata": {
    "collapsed": false
   },
   "source": [
    "Multiply $P$ by ${\\mathbf b}$ and verify that you obtain the orthogonal projection of ${\\mathbf b}$ onto $V$. For this reason, \n",
    "we call $P$ the orthogonal projection matrix that projects vectors in ${\\mathbb R}^3$ onto $V$."
   ]
  },
  {
   "cell_type": "code",
   "execution_count": 0,
   "metadata": {
    "collapsed": false
   },
   "outputs": [
   ],
   "source": [
   ]
  },
  {
   "cell_type": "markdown",
   "metadata": {
    "collapsed": false
   },
   "source": [
    "Find the product $Q^TQ$. What do you notice?"
   ]
  },
  {
   "cell_type": "code",
   "execution_count": 0,
   "metadata": {
    "collapsed": false
   },
   "outputs": [
   ],
   "source": [
   ]
  },
  {
   "cell_type": "markdown",
   "metadata": {
    "collapsed": false
   },
   "source": [
    "We've seen how to construct an orthonormal basis for $\\mathbb R^m$ or a subspace of it from an orthogonal basis. We simply take each vector in the orthogonal basis and divide it by its length.\n",
    "\n",
    "The Gram-Schmidt is a very powerful tool for taking any basis and creating an orthogonal one from it. Suppose that \n",
    "$\\left\\{\\mathbf{w}_1, \\mathbf{w}_2,\\ldots , \\mathbf{w}_k \\right\\}$ is a basis for $\\mathbb{R}^m$ or some subspace of it.\n",
    "\n",
    "Gram-Schmidt works iteratively as follows:\n",
    "\n",
    "1. Define $\\mathbf{v}_1=\\mathbf{w}_1$\n",
    "2. Set $\\mathbf{v}_2=\\mathbf{w}_2-\\mbox{proj}_{\\mathbf{v}_1} \\mathbf{w}_2$\n",
    "3. Set $\\mathbf{v}_3=\\mathbf{w}_3-\\mbox{proj}_{\\mathbf{v}_1} \\mathbf{w}_3-\\mbox{proj}_{\\mathbf{v}_2} \\mathbf{w}_3$\n",
    "\n",
    "In general,\n",
    "$\\mathbf{v}_j=\\mathbf{w}_j-\\sum_{i=1}^{j-1} \\mbox{proj}_{\\mathbf{v}_i} \\mathbf{w}_i \\mbox{ for $j=2,\\ldots k$.}$\n",
    "\n",
    "Of course, using the orthogonal basis vectors, $\\left\\{\\mathbf{v}_1, \\mathbf{v}_2,\\ldots , \\mathbf{v}_k \\right\\}$,\n",
    "we can can construct an orthonormal one by dividing each vector $\\mathbf v_k$ by its lenth.\n",
    "\n",
    "Suppose ${\\mathbf w}_1 = \\begin{bmatrix}1 \\\\ 0 \\\\ 2 \\\\1\\end{bmatrix}$, \n",
    "${\\mathbf w}_2 = \\begin{bmatrix}-4 \\\\ 1 \\\\ -3 \\\\0 \\end{bmatrix}$, and\n",
    "${\\mathbf w}_3 = \\begin{bmatrix}-5 \\\\ -3 \\\\ 5 \\\\4 \\end{bmatrix}$, which form a basis\n",
    "for a three-dimensional subspace of $\\mathbb{R}^4$. Below we will construct an orthonormal basis from these three\n",
    "vectors by applying Gram-Schmit and normalizing. I've computed $\\mathbf{u}_1$ and $\\mathbf{u}_2$ for you. Additional\n",
    "evaluation cells can be created using the insert menu above.\n",
    "\n",
    "\n",
    "\n",
    "\n"
   ]
  },
  {
   "cell_type": "code",
   "execution_count": 0,
   "metadata": {
    "collapsed": false
   },
   "outputs": [
   ],
   "source": [
    "w1=vector([1,0,2,1])\n",
    "v1=w1\n",
    "u1=unit(v1)\n",
    "u1"
   ]
  },
  {
   "cell_type": "code",
   "execution_count": 0,
   "metadata": {
    "collapsed": false
   },
   "outputs": [
   ],
   "source": [
    "w2=vector([-4,1,-3,0])\n",
    "v2=w2-proj(w2,v1)\n",
    "u2=unit(v2)\n",
    "u2"
   ]
  },
  {
   "cell_type": "markdown",
   "metadata": {
    "collapsed": false
   },
   "source": [
    "### Define the vectors \n",
    "${\\mathbf v}_1 = \\begin{bmatrix}1 \\\\ 0 \\\\ 2 \\end{bmatrix}$, \n",
    "${\\mathbf v}_2 = \\begin{bmatrix}-4 \\\\ 1 \\\\ -3 \\end{bmatrix}$, and\n",
    "${\\mathbf v}_3 = \\begin{bmatrix}-5 \\\\ -3 \\\\ 5 \\end{bmatrix}$.\n",
    "Apply Gram-Schmidt orthogonalization to find an orthonormal basis ${\\mathbf w}_1$, ${\\mathbf w}_2$, and ${\\mathbf w}_3$."
   ]
  },
  {
   "cell_type": "code",
   "execution_count": 0,
   "metadata": {
    "collapsed": false
   },
   "outputs": [
   ],
   "source": [
    " "
   ]
  },
  {
   "cell_type": "code",
   "execution_count": 0,
   "metadata": {
    "collapsed": false
   },
   "outputs": [
   ],
   "source": [
    " "
   ]
  },
  {
   "cell_type": "code",
   "execution_count": 0,
   "metadata": {
    "collapsed": false
   },
   "outputs": [
   ],
   "source": [
   ]
  },
  {
   "cell_type": "markdown",
   "metadata": {
    "collapsed": false
   },
   "source": [
    "Beginning with the vectors ${\\mathbf w}_1$, ${\\mathbf w}_2$, and ${\\mathbf w}_3$, form an orthonormal basis ${\\mathbf u}_1$, ${\\mathbf u}_2$, and ${\\mathbf u}_3$."
   ]
  },
  {
   "cell_type": "code",
   "execution_count": 0,
   "metadata": {
    "collapsed": false
   },
   "outputs": [
   ],
   "source": [
   ]
  },
  {
   "cell_type": "markdown",
   "metadata": {
    "collapsed": false
   },
   "source": [
    "Form the orthogonal matrix $Q$ whose columns are the orthonormal basis vectors."
   ]
  },
  {
   "cell_type": "code",
   "execution_count": 0,
   "metadata": {
    "collapsed": false
   },
   "outputs": [
   ],
   "source": [
   ]
  },
  {
   "cell_type": "markdown",
   "metadata": {
    "collapsed": false
   },
   "source": [
    "Verify that $QQ^t=Q^tQ=I$, where $I$ denotes the identity matrix."
   ]
  },
  {
   "cell_type": "markdown",
   "metadata": {
    "collapsed": false
   },
   "source": [
    "The following cell defines a function <code>gs</code> so that <code>gs(basis)</code> forms an orthonormal basis from a given basis.  Be sure to evaluate it."
   ]
  },
  {
   "cell_type": "code",
   "execution_count": 0,
   "metadata": {
    "collapsed": false
   },
   "outputs": [
   ],
   "source": [
    "def gs(basis):\n",
    "    onbasis = []\n",
    "    for b in basis:\n",
    "        if len(onbasis) == 0: onbasis.append(b)\n",
    "        else: onbasis.append(b-projection(b, onbasis))\n",
    "    return map(unit, onbasis)"
   ]
  },
  {
   "cell_type": "markdown",
   "metadata": {
    "collapsed": false
   },
   "source": [
    "Suppose that $V$ is a 2-dimensional subspace of ${\\mathbf R}^4$ with basis\n",
    "$$\n",
    "{\\mathbf v}_1 = \\begin{bmatrix} 2 \\\\ 1 \\\\ -1 \\\\ 0 \\end{bmatrix},\n",
    "{\\mathbf v}_2 = \\begin{bmatrix} 0 \\\\ 2 \\\\ -2 \\\\ 2 \\end{bmatrix}.\n",
    "$$\n",
    "Use the function <code>gs</code> to find an orthonormal basis for $V$."
   ]
  },
  {
   "cell_type": "code",
   "execution_count": 0,
   "metadata": {
    "collapsed": false
   },
   "outputs": [
   ],
   "source": [
   ]
  },
  {
   "cell_type": "markdown",
   "metadata": {
    "collapsed": false
   },
   "source": [
    "Form the matrix $Q$ whose columns are your orthornormal basis for $V$. Then find the matrix $P=QQ^t$ that projects vectors orthogonally onto $V$."
   ]
  },
  {
   "cell_type": "code",
   "execution_count": 0,
   "metadata": {
    "collapsed": false
   },
   "outputs": [
   ],
   "source": [
   ]
  },
  {
   "cell_type": "markdown",
   "metadata": {
    "collapsed": false
   },
   "source": [
    "Find the orthogonal projection of ${\\mathbf b} = \\begin{bmatrix} 4 \\\\ 10 \\\\ -6 \\\\ 2 \\end{bmatrix}$ onto $V$."
   ]
  },
  {
   "cell_type": "code",
   "execution_count": 0,
   "metadata": {
    "collapsed": false
   },
   "outputs": [
   ],
   "source": [
   ]
  },
  {
   "cell_type": "markdown",
   "metadata": {
    "collapsed": false
   },
   "source": [
    "Explain why ${\\mathbf b}$ should be a linear combination of ${\\mathbf v}_1$ and ${\\mathbf v}_2$ and then express ${\\mathbf b}$ as a linear combination of ${\\mathbf v}_1$ and ${\\mathbf v}_2$."
   ]
  },
  {
   "cell_type": "code",
   "execution_count": 0,
   "metadata": {
    "collapsed": false
   },
   "outputs": [
   ],
   "source": [
   ]
  },
  {
   "cell_type": "markdown",
   "metadata": {
    "collapsed": false
   },
   "source": [
    "Suppose that $A$ is the matrix whose columns are ${\\mathbf v}_1$ and ${\\mathbf v}_2$;  that is, $A=\\begin{bmatrix} {\\mathbf v}_1 & {\\mathbf v}_2 \\end{bmatrix}$.  Find the matrix $R = Q^TA$.  What is special about $R$?"
   ]
  },
  {
   "cell_type": "code",
   "execution_count": 0,
   "metadata": {
    "collapsed": false
   },
   "outputs": [
   ],
   "source": [
   ]
  },
  {
   "cell_type": "markdown",
   "metadata": {
    "collapsed": false
   },
   "source": [
    "Verify that $A = QR$.  This will be another important matrix factorization, called the $QR$-factorization of $A$, that we will work with."
   ]
  },
  {
   "cell_type": "code",
   "execution_count": 0,
   "metadata": {
    "collapsed": false
   },
   "outputs": [
   ],
   "source": [
   ]
  },
  {
   "cell_type": "markdown",
   "metadata": {
    "collapsed": false
   },
   "source": [
    "If $A$ is an $m\\times n$ matrix with linearly independent columns, then we can write $A=QR$ where the columns of $Q$ are orthonormal and $R$ is upper triangular.  We will see why this is true in our next class period.  For now, define vectors\n",
    "$$\n",
    "{\\mathbf v}_1 = \\begin{bmatrix} 1 \\\\ 0 \\\\ 1 \\\\ 1 \\end{bmatrix},\n",
    "{\\mathbf v}_2 = \\begin{bmatrix} 0 \\\\ 2 \\\\ 0 \\\\ 3 \\end{bmatrix},\n",
    "{\\mathbf v}_3 = \\begin{bmatrix} -3 \\\\ -1 \\\\ 1 \\\\ 5 \\end{bmatrix}.\n",
    "$$\n",
    "These vectors are linearly independent so they form a basis for a 3-dimensional subspace $V$ of ${\\mathbb R}^4$.  Let $A$ the matrix whose columns are ${\\mathbf v}_1$, ${\\mathbf v}_2$, and ${\\mathbf v}_3$.\n",
    "\n",
    "Use Gram-Schmidt orthogonalization to find an orthonormal basis ${\\mathbf u}_1$, ${\\mathbf u}_2$, and ${\\mathbf u}_3$ of $V$.\n",
    "\n"
   ]
  },
  {
   "cell_type": "code",
   "execution_count": 0,
   "metadata": {
    "collapsed": false
   },
   "outputs": [
   ],
   "source": [
   ]
  },
  {
   "cell_type": "markdown",
   "metadata": {
    "collapsed": false
   },
   "source": [
    "Define $Q$ to be the matrix whose columns are ${\\mathbf u}_1$, ${\\mathbf u}_2$, and ${\\mathbf u}_3$.  Then define $R = Q^TA$."
   ]
  },
  {
   "cell_type": "code",
   "execution_count": 0,
   "metadata": {
    "collapsed": false
   },
   "outputs": [
   ],
   "source": [
   ]
  },
  {
   "cell_type": "markdown",
   "metadata": {
    "collapsed": false
   },
   "source": [
    "Verify once again that $A=QR$."
   ]
  },
  {
   "cell_type": "code",
   "execution_count": 0,
   "metadata": {
    "collapsed": false
   },
   "outputs": [
   ],
   "source": [
   ]
  }
 ],
 "metadata": {
  "kernelspec": {
   "display_name": "SageMath (stable)",
   "language": "sagemath",
   "metadata": {
    "cocalc": {
     "description": "Open-source mathematical software system",
     "priority": 10,
     "url": "https://www.sagemath.org/"
    }
   },
   "name": "sagemath"
  },
  "language_info": {
   "codemirror_mode": {
    "name": "ipython",
    "version": 2
   },
   "file_extension": ".py",
   "mimetype": "text/x-python",
   "name": "python",
   "nbconvert_exporter": "python",
   "pygments_lexer": "ipython2",
   "version": "2.7.15"
  }
 },
 "nbformat": 4,
 "nbformat_minor": 0
}